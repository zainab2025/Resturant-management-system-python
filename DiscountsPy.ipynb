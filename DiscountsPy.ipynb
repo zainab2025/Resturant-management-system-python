{
 "cells": [
  {
   "cell_type": "code",
   "execution_count": 28,
   "metadata": {},
   "outputs": [],
   "source": [
    "#this is the adding function \"add discounts to the menue of the resturant\"\n",
    "def addDiscount():\n",
    "    with open ('DsicountsPy.txt','a') as file:\n",
    "        c='y'\n",
    "        while c=='y':\n",
    "            discount_id=input('Enter the discount ID: ')\n",
    "            product_name=input('Enter the name of the product: ')\n",
    "            start_date=input('Enter the start date: ')\n",
    "            end_date=input('Enter the expire date: ')\n",
    "            discount_amount=input('Enter the amount of discount: ')\n",
    "            file.write(discount_id+'\\t\\t'+product_name+'\\t\\t'+start_date+'\\t\\t'+end_date+'\\t\\t'+discount_amount+'\\n')\n",
    "            c=input('sir!, Do You want to add more discounts! (y/n)')\n",
    "        print('Items Added successfully! :)')"
   ]
  },
  {
   "cell_type": "code",
   "execution_count": 29,
   "metadata": {},
   "outputs": [
    {
     "name": "stdout",
     "output_type": "stream",
     "text": [
      "Enter the discount ID: 6\n",
      "Enter the name of the product: meat\n",
      "Enter the start date: 1April, 2023\n",
      "Enter the expire date: 4April, 2023\n",
      "Enter the amount of discount: 26%\n",
      "sir!, Do You want to add more discounts! (y/n)n\n",
      "Items Added successfully! :)\n"
     ]
    }
   ],
   "source": [
    "addDiscount()"
   ]
  },
  {
   "cell_type": "code",
   "execution_count": 30,
   "metadata": {},
   "outputs": [],
   "source": [
    "def displayDiscounts():\n",
    "    with open ('DsicountsPy.txt','r') as file:\n",
    "        print ('discount_id\\tproduct_name\\tstart_date\\tend_date\\tdiscount_amount\\n')\n",
    "        print (\"------------------------------------------------------------------------------------------\")\n",
    "        \n",
    "        for line in file :\n",
    "            print (line,end=\"\\n\")"
   ]
  },
  {
   "cell_type": "code",
   "execution_count": 31,
   "metadata": {},
   "outputs": [
    {
     "name": "stdout",
     "output_type": "stream",
     "text": [
      "discount_id\tproduct_name\tstart_date\tend_date\tdiscount_amount\n",
      "\n",
      "------------------------------------------------------------------------------------------\n",
      "1\trice\t1May,2023\t30May,2023\t10%\n",
      "\n",
      "2\tfish\t3March,2023\t10April, 2023\t30%\n",
      "\n",
      "3\tcake\t1April, 2023\t10April, 2023\t5%\n",
      "\n",
      "4\tPizza\t1June, 2023\t10June, 2023\t44%\n",
      "\n",
      "5\tCinappon\t1June, 2023\t1July, 2023\t30%\n",
      "\n",
      "6\t\tmeat\t\t1April, 2023\t\t4April, 2023\t\t26%\n",
      "\n"
     ]
    }
   ],
   "source": [
    "displayDiscounts()"
   ]
  },
  {
   "cell_type": "code",
   "execution_count": 24,
   "metadata": {},
   "outputs": [],
   "source": [
    "def searchDiscounts():\n",
    "    name=input('Enter the name of the product to search discount!')\n",
    "    flage=False\n",
    "    with open ('DsicountsPy.txt','r') as file:\n",
    "        for line in file :\n",
    "            fields=line.split('\\t')\n",
    "            if fields[1]==name:\n",
    "                flage=True\n",
    "                print(line,end='\\n')\n",
    "        if (not flage):\n",
    "            print('Not found, Sir!') \n",
    "                "
   ]
  },
  {
   "cell_type": "code",
   "execution_count": 25,
   "metadata": {},
   "outputs": [
    {
     "name": "stdout",
     "output_type": "stream",
     "text": [
      "Enter the name of the product to search discount!rice\n",
      "1\trice\t1May,2023\t30May,2023\t10%\n",
      "\n"
     ]
    }
   ],
   "source": [
    "searchDiscounts()"
   ]
  },
  {
   "cell_type": "code",
   "execution_count": 8,
   "metadata": {},
   "outputs": [],
   "source": [
    "def deleteDiscount():\n",
    "    import os\n",
    "    flage=False\n",
    "    id =input ('Entre the id of the discount to delete it!')\n",
    "    file=open ('DsicountsPy.txt','r')\n",
    "    temp=open('temp.txt','w')\n",
    "    for line in file :\n",
    "            fields=line.split('\\t')\n",
    "            if fields[0] == id:\n",
    "                flage=True\n",
    "            else:\n",
    "                temp.write(line)\n",
    "    file.close()\n",
    "    temp.close()\n",
    "    os.remove('DsicountsPy.txt')\n",
    "    os.rename('temp.txt','DsicountsPy.txt')\n",
    "    if not flage:\n",
    "        print ('there is no discounts with that ID to delet')\n",
    "    else:\n",
    "        print ('item deleted!')\n",
    "        \n",
    "    "
   ]
  },
  {
   "cell_type": "code",
   "execution_count": 9,
   "metadata": {},
   "outputs": [
    {
     "name": "stdout",
     "output_type": "stream",
     "text": [
      "Entre the id of the discount to delete it!\n",
      "item deleted!\n"
     ]
    }
   ],
   "source": [
    "deleteDiscount()"
   ]
  },
  {
   "cell_type": "code",
   "execution_count": 10,
   "metadata": {},
   "outputs": [
    {
     "name": "stdout",
     "output_type": "stream",
     "text": [
      "discount_id\tproduct_name\tstart_date\tend_date\tdiscount_amount\n",
      "\n",
      "------------------------------------------------------------------------------------------\n",
      "2\tfihs\t20\t30\t23%\t\t\t\t\t\n",
      "\n",
      "3\tcake\t30March\t1May\t20%\n",
      "\n"
     ]
    }
   ],
   "source": [
    "displayDiscounts()"
   ]
  },
  {
   "cell_type": "code",
   "execution_count": 11,
   "metadata": {},
   "outputs": [],
   "source": [
    "def updateDiscount():\n",
    "    import os\n",
    "    flage=False\n",
    "    id =input ('Entre the id of the discount to update it!')\n",
    "    file=open ('DsicountsPy.txt','r')\n",
    "    temp=open('temp.txt','w')\n",
    "    for line in file :\n",
    "            f=line.split('\\t')\n",
    "            if f[0] == id:\n",
    "                flage=True\n",
    "                newDiscount=input('Entre the new discount for : '+f[1]+' ')\n",
    "                line= f[0]+'\\t'+f[1]+'\\t'+f[2]+'\\t'+f[3]+'\\t'+newDiscount\n",
    "            temp.write(line)\n",
    "    file.close()\n",
    "    temp.close()\n",
    "    os.remove('DsicountsPy.txt')\n",
    "    os.rename('temp.txt','DsicountsPy.txt')\n",
    "    if not flage:\n",
    "        print ('there is no discounts with that ID to delet')\n",
    "    else:\n",
    "        print ('item updated!')\n",
    "        \n",
    "    "
   ]
  },
  {
   "cell_type": "code",
   "execution_count": 12,
   "metadata": {},
   "outputs": [
    {
     "name": "stdout",
     "output_type": "stream",
     "text": [
      "Entre the id of the discount to update it!2\n",
      "Entre the new discount for the product: fihs22\n",
      "item updated!\n"
     ]
    }
   ],
   "source": [
    "updateDiscount()"
   ]
  },
  {
   "cell_type": "code",
   "execution_count": 13,
   "metadata": {},
   "outputs": [
    {
     "name": "stdout",
     "output_type": "stream",
     "text": [
      "discount_id\tproduct_name\tstart_date\tend_date\tdiscount_amount\n",
      "\n",
      "------------------------------------------------------------------------------------------\n",
      "2\tfihs\t20\t30\t223\tcake\t30March\t1May\t20%\n",
      "\n"
     ]
    }
   ],
   "source": [
    "displayDiscounts()"
   ]
  },
  {
   "cell_type": "code",
   "execution_count": null,
   "metadata": {},
   "outputs": [],
   "source": []
  },
  {
   "cell_type": "code",
   "execution_count": null,
   "metadata": {},
   "outputs": [],
   "source": []
  }
 ],
 "metadata": {
  "kernelspec": {
   "display_name": "Python 3",
   "language": "python",
   "name": "python3"
  },
  "language_info": {
   "codemirror_mode": {
    "name": "ipython",
    "version": 3
   },
   "file_extension": ".py",
   "mimetype": "text/x-python",
   "name": "python",
   "nbconvert_exporter": "python",
   "pygments_lexer": "ipython3",
   "version": "3.8.5"
  }
 },
 "nbformat": 4,
 "nbformat_minor": 4
}
