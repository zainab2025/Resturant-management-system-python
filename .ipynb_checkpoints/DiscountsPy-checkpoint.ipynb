{
 "cells": [
  {
   "cell_type": "code",
   "execution_count": null,
   "metadata": {},
   "outputs": [],
   "source": [
    "#this is the adding function \"add discounts to the menue of the resturant\"\n",
    "def addDiscount():\n",
    "    with open ('DsicountsPy.txt','a') as file:\n",
    "        c='y'\n",
    "        while c=='y':\n",
    "            discount_id=input('Enter the discount ID: ')\n",
    "            product_name=input('Enter the name of the product: ')\n",
    "            start_date=input('Enter the start date: ')\n",
    "            end_date=input('Enter the start date: ')\n",
    "            discount_amount=input('Enter the amount of discount: ')\n",
    "            file.write(discount_id+'\\t'+product_name+'\\t'+start_date+'\\t'+end_date+'\\t'+discount_amount+'\\n')\n",
    "            c=input('sir!, Do You want to add more discounts! (y/n)')\n",
    "        print('File updated successfully! :)')"
   ]
  },
  {
   "cell_type": "code",
   "execution_count": null,
   "metadata": {},
   "outputs": [],
   "source": [
    "addDiscount()"
   ]
  },
  {
   "cell_type": "code",
   "execution_count": null,
   "metadata": {},
   "outputs": [],
   "source": [
    "def displayDiscounts():\n",
    "    with open ('DsicountsPy.txt','r') as file:\n",
    "        print ('discount_id\\tproduct_name\\tstart_date\\tend_date\\tdiscount_amount\\n')\n",
    "        print (\"------------------------------------------------------------------------------------------\")\n",
    "        \n",
    "        for line in file :\n",
    "            print (line,end=\"\\n\")"
   ]
  },
  {
   "cell_type": "code",
   "execution_count": null,
   "metadata": {},
   "outputs": [],
   "source": [
    "displayDiscounts()"
   ]
  },
  {
   "cell_type": "code",
   "execution_count": null,
   "metadata": {},
   "outputs": [],
   "source": [
    "def searchDiscounts():\n",
    "    name=input('Enter the name of the product to search discount!')\n",
    "    with open ('DsicountsPy.txt','r') as file:\n",
    "       \n",
    "        for line in file :\n",
    "            fields=line.split('\\t')\n",
    "            if fields[1]==name:\n",
    "               print (line,\"\\n\")\n",
    "        else:\n",
    "            print ('oops! not found')\n",
    "                "
   ]
  },
  {
   "cell_type": "code",
   "execution_count": null,
   "metadata": {},
   "outputs": [],
   "source": [
    "searchDiscounts()"
   ]
  },
  {
   "cell_type": "code",
   "execution_count": null,
   "metadata": {},
   "outputs": [],
   "source": [
    "def deleteDiscount():\n",
    "    import os\n",
    "    flage=False\n",
    "    id =input ('Entre the id of the discount to delete it!')\n",
    "    file=open ('DsicountsPy.txt','r')\n",
    "    temp=open('temp.txt','w')\n",
    "    for line in file :\n",
    "            fields=line.split('\\t')\n",
    "            if fields[0] == id:\n",
    "                flage=True\n",
    "            else:\n",
    "                temp.write(line)\n",
    "    file.close()\n",
    "    temp.close()\n",
    "    os.remove('DsicountsPy.txt')\n",
    "    os.rename('temp.txt','DsicountsPy.txt')\n",
    "    if not flage:\n",
    "        print ('there is no discounts with that ID to delet')\n",
    "    else:\n",
    "        print ('item deleted!')\n",
    "        \n",
    "    "
   ]
  },
  {
   "cell_type": "code",
   "execution_count": null,
   "metadata": {},
   "outputs": [],
   "source": [
    "def updateDiscount():\n",
    "    import os\n",
    "    flage=False\n",
    "    id =input ('Entre the id of the discount to update it!')\n",
    "    file=open ('DsicountsPy.txt','r')\n",
    "    temp=open('temp.txt','w')\n",
    "    for line in file :\n",
    "            f=line.split('\\t')\n",
    "            if f[0] == id:\n",
    "                flage=False \n",
    "                newDiscount=input('Entre the new discount! for ')\n",
    "                line= f[0]+'\\t'+f[1]+'\\t'+f[2]+'\\t'+f[3]+'\\t'+newDiscount\n",
    "            temp.write(line)\n",
    "    file.close()\n",
    "    temp.close()\n",
    "    os.remove('DsicountsPy.txt')\n",
    "    os.rename('temp.txt','DsicountsPy.txt')\n",
    "    if not flage:\n",
    "        print ('there is no discounts with that ID to delet')\n",
    "    else:\n",
    "        print ('item updated!')\n",
    "        \n",
    "    "
   ]
  },
  {
   "cell_type": "code",
   "execution_count": null,
   "metadata": {},
   "outputs": [],
   "source": [
    "updateDiscount()"
   ]
  },
  {
   "cell_type": "code",
   "execution_count": null,
   "metadata": {},
   "outputs": [],
   "source": []
  },
  {
   "cell_type": "code",
   "execution_count": null,
   "metadata": {},
   "outputs": [],
   "source": []
  },
  {
   "cell_type": "code",
   "execution_count": null,
   "metadata": {},
   "outputs": [],
   "source": []
  }
 ],
 "metadata": {
  "kernelspec": {
   "display_name": "Python 3",
   "language": "python",
   "name": "python3"
  },
  "language_info": {
   "codemirror_mode": {
    "name": "ipython",
    "version": 3
   },
   "file_extension": ".py",
   "mimetype": "text/x-python",
   "name": "python",
   "nbconvert_exporter": "python",
   "pygments_lexer": "ipython3",
   "version": "3.8.5"
  }
 },
 "nbformat": 4,
 "nbformat_minor": 4
}
